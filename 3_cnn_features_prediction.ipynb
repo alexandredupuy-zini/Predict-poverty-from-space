{
 "cells": [
  {
   "cell_type": "markdown",
   "metadata": {},
   "source": [
    "# Create deep features dataset"
   ]
  },
  {
   "cell_type": "code",
   "execution_count": 1,
   "metadata": {},
   "outputs": [
    {
     "name": "stderr",
     "output_type": "stream",
     "text": [
      "Using TensorFlow backend.\n"
     ]
    }
   ],
   "source": [
    "from keras.applications.vgg16 import VGG16\n",
    "from keras.preprocessing import image\n",
    "from keras.applications.vgg16 import preprocess_input\n",
    "from keras.models import Model\n",
    "import numpy as np\n",
    "import pandas as pd\n",
    "import os\n",
    "import matplotlib.pyplot as plt"
   ]
  },
  {
   "cell_type": "code",
   "execution_count": 2,
   "metadata": {},
   "outputs": [],
   "source": [
    "df_rwanda = pd.read_csv('./data/rwanda.csv')"
   ]
  },
  {
   "cell_type": "code",
   "execution_count": 3,
   "metadata": {},
   "outputs": [
    {
     "data": {
      "text/html": [
       "<div>\n",
       "<style scoped>\n",
       "    .dataframe tbody tr th:only-of-type {\n",
       "        vertical-align: middle;\n",
       "    }\n",
       "\n",
       "    .dataframe tbody tr th {\n",
       "        vertical-align: top;\n",
       "    }\n",
       "\n",
       "    .dataframe thead th {\n",
       "        text-align: right;\n",
       "    }\n",
       "</style>\n",
       "<table border=\"1\" class=\"dataframe\">\n",
       "  <thead>\n",
       "    <tr style=\"text-align: right;\">\n",
       "      <th></th>\n",
       "      <th>cluster</th>\n",
       "      <th>latitude</th>\n",
       "      <th>longitude</th>\n",
       "      <th>wealth_index</th>\n",
       "      <th>mean_light</th>\n",
       "      <th>median_light</th>\n",
       "      <th>std_light</th>\n",
       "      <th>min_light</th>\n",
       "      <th>max_light</th>\n",
       "    </tr>\n",
       "  </thead>\n",
       "  <tbody>\n",
       "    <tr>\n",
       "      <th>0</th>\n",
       "      <td>1</td>\n",
       "      <td>-2.532818</td>\n",
       "      <td>29.684726</td>\n",
       "      <td>-0.531405</td>\n",
       "      <td>0.06</td>\n",
       "      <td>0.0</td>\n",
       "      <td>0.596992</td>\n",
       "      <td>0.0</td>\n",
       "      <td>6.0</td>\n",
       "    </tr>\n",
       "    <tr>\n",
       "      <th>1</th>\n",
       "      <td>2</td>\n",
       "      <td>-1.833858</td>\n",
       "      <td>30.310689</td>\n",
       "      <td>-0.409830</td>\n",
       "      <td>0.00</td>\n",
       "      <td>0.0</td>\n",
       "      <td>0.000000</td>\n",
       "      <td>0.0</td>\n",
       "      <td>0.0</td>\n",
       "    </tr>\n",
       "    <tr>\n",
       "      <th>2</th>\n",
       "      <td>3</td>\n",
       "      <td>-1.888155</td>\n",
       "      <td>29.478298</td>\n",
       "      <td>-0.478115</td>\n",
       "      <td>0.00</td>\n",
       "      <td>0.0</td>\n",
       "      <td>0.000000</td>\n",
       "      <td>0.0</td>\n",
       "      <td>0.0</td>\n",
       "    </tr>\n",
       "    <tr>\n",
       "      <th>3</th>\n",
       "      <td>4</td>\n",
       "      <td>-2.366763</td>\n",
       "      <td>30.521692</td>\n",
       "      <td>-0.435960</td>\n",
       "      <td>0.00</td>\n",
       "      <td>0.0</td>\n",
       "      <td>0.000000</td>\n",
       "      <td>0.0</td>\n",
       "      <td>0.0</td>\n",
       "    </tr>\n",
       "    <tr>\n",
       "      <th>4</th>\n",
       "      <td>5</td>\n",
       "      <td>-2.171266</td>\n",
       "      <td>30.018541</td>\n",
       "      <td>-0.449480</td>\n",
       "      <td>0.00</td>\n",
       "      <td>0.0</td>\n",
       "      <td>0.000000</td>\n",
       "      <td>0.0</td>\n",
       "      <td>0.0</td>\n",
       "    </tr>\n",
       "  </tbody>\n",
       "</table>\n",
       "</div>"
      ],
      "text/plain": [
       "   cluster  latitude  longitude  wealth_index  mean_light  median_light  \\\n",
       "0        1 -2.532818  29.684726     -0.531405        0.06           0.0   \n",
       "1        2 -1.833858  30.310689     -0.409830        0.00           0.0   \n",
       "2        3 -1.888155  29.478298     -0.478115        0.00           0.0   \n",
       "3        4 -2.366763  30.521692     -0.435960        0.00           0.0   \n",
       "4        5 -2.171266  30.018541     -0.449480        0.00           0.0   \n",
       "\n",
       "   std_light  min_light  max_light  \n",
       "0   0.596992        0.0        6.0  \n",
       "1   0.000000        0.0        0.0  \n",
       "2   0.000000        0.0        0.0  \n",
       "3   0.000000        0.0        0.0  \n",
       "4   0.000000        0.0        0.0  "
      ]
     },
     "execution_count": 3,
     "metadata": {},
     "output_type": "execute_result"
    }
   ],
   "source": [
    "df_rwanda.head()"
   ]
  },
  {
   "cell_type": "code",
   "execution_count": 6,
   "metadata": {},
   "outputs": [],
   "source": [
    "base_model = VGG16(weights='imagenet')\n",
    "model = Model(inputs=base_model.input, outputs=base_model.get_layer('fc2').output)"
   ]
  },
  {
   "cell_type": "code",
   "execution_count": 7,
   "metadata": {},
   "outputs": [],
   "source": [
    "folder_path = './data/daytime_images/rwanda/'"
   ]
  },
  {
   "cell_type": "code",
   "execution_count": 8,
   "metadata": {},
   "outputs": [],
   "source": [
    "images = []\n",
    "for img in os.listdir(folder_path):\n",
    "    img = os.path.join(folder_path, img)\n",
    "    img = image.load_img(img, target_size=(224, 224))\n",
    "    img = image.img_to_array(img)\n",
    "    img = np.expand_dims(img, axis=0)\n",
    "    images.append(img)\n",
    "images = np.vstack(images)"
   ]
  },
  {
   "cell_type": "code",
   "execution_count": 9,
   "metadata": {},
   "outputs": [],
   "source": [
    "images = np.vstack(images)"
   ]
  },
  {
   "cell_type": "code",
   "execution_count": 10,
   "metadata": {},
   "outputs": [],
   "source": [
    "features = model.predict(images)"
   ]
  },
  {
   "cell_type": "code",
   "execution_count": 11,
   "metadata": {},
   "outputs": [
    {
     "data": {
      "text/plain": [
       "(492, 4096)"
      ]
     },
     "execution_count": 11,
     "metadata": {},
     "output_type": "execute_result"
    }
   ],
   "source": [
    "features.shape"
   ]
  },
  {
   "cell_type": "code",
   "execution_count": 12,
   "metadata": {},
   "outputs": [],
   "source": [
    "features = list(features)"
   ]
  },
  {
   "cell_type": "code",
   "execution_count": 13,
   "metadata": {},
   "outputs": [],
   "source": [
    "df_features = pd.DataFrame({'id': df_rwanda['cluster'].values,\n",
    "                            'features': features})"
   ]
  },
  {
   "cell_type": "code",
   "execution_count": 14,
   "metadata": {},
   "outputs": [
    {
     "data": {
      "text/html": [
       "<div>\n",
       "<style scoped>\n",
       "    .dataframe tbody tr th:only-of-type {\n",
       "        vertical-align: middle;\n",
       "    }\n",
       "\n",
       "    .dataframe tbody tr th {\n",
       "        vertical-align: top;\n",
       "    }\n",
       "\n",
       "    .dataframe thead th {\n",
       "        text-align: right;\n",
       "    }\n",
       "</style>\n",
       "<table border=\"1\" class=\"dataframe\">\n",
       "  <thead>\n",
       "    <tr style=\"text-align: right;\">\n",
       "      <th></th>\n",
       "      <th>features</th>\n",
       "      <th>id</th>\n",
       "    </tr>\n",
       "  </thead>\n",
       "  <tbody>\n",
       "    <tr>\n",
       "      <th>0</th>\n",
       "      <td>[0.0, 0.0, 0.0, 0.0, 1.3173025, 0.0, 1.180438,...</td>\n",
       "      <td>1</td>\n",
       "    </tr>\n",
       "    <tr>\n",
       "      <th>1</th>\n",
       "      <td>[0.0, 0.0, 0.0, 1.4845816, 2.3637195, 0.0, 1.4...</td>\n",
       "      <td>2</td>\n",
       "    </tr>\n",
       "    <tr>\n",
       "      <th>2</th>\n",
       "      <td>[0.0, 1.2253599, 0.0, 4.373325, 2.237329, 0.0,...</td>\n",
       "      <td>3</td>\n",
       "    </tr>\n",
       "    <tr>\n",
       "      <th>3</th>\n",
       "      <td>[0.0, 0.0, 0.0, 0.0, 1.5691879, 0.0, 1.3579657...</td>\n",
       "      <td>4</td>\n",
       "    </tr>\n",
       "    <tr>\n",
       "      <th>4</th>\n",
       "      <td>[0.0, 0.0, 0.0, 2.745697, 2.8115597, 0.0, 0.07...</td>\n",
       "      <td>5</td>\n",
       "    </tr>\n",
       "  </tbody>\n",
       "</table>\n",
       "</div>"
      ],
      "text/plain": [
       "                                            features  id\n",
       "0  [0.0, 0.0, 0.0, 0.0, 1.3173025, 0.0, 1.180438,...   1\n",
       "1  [0.0, 0.0, 0.0, 1.4845816, 2.3637195, 0.0, 1.4...   2\n",
       "2  [0.0, 1.2253599, 0.0, 4.373325, 2.237329, 0.0,...   3\n",
       "3  [0.0, 0.0, 0.0, 0.0, 1.5691879, 0.0, 1.3579657...   4\n",
       "4  [0.0, 0.0, 0.0, 2.745697, 2.8115597, 0.0, 0.07...   5"
      ]
     },
     "execution_count": 14,
     "metadata": {},
     "output_type": "execute_result"
    }
   ],
   "source": [
    "df_features.head()"
   ]
  },
  {
   "cell_type": "code",
   "execution_count": 15,
   "metadata": {},
   "outputs": [
    {
     "data": {
      "text/html": [
       "<div>\n",
       "<style scoped>\n",
       "    .dataframe tbody tr th:only-of-type {\n",
       "        vertical-align: middle;\n",
       "    }\n",
       "\n",
       "    .dataframe tbody tr th {\n",
       "        vertical-align: top;\n",
       "    }\n",
       "\n",
       "    .dataframe thead th {\n",
       "        text-align: right;\n",
       "    }\n",
       "</style>\n",
       "<table border=\"1\" class=\"dataframe\">\n",
       "  <thead>\n",
       "    <tr style=\"text-align: right;\">\n",
       "      <th></th>\n",
       "      <th>cluster</th>\n",
       "      <th>latitude</th>\n",
       "      <th>longitude</th>\n",
       "      <th>wealth_index</th>\n",
       "      <th>mean_light</th>\n",
       "      <th>median_light</th>\n",
       "      <th>std_light</th>\n",
       "      <th>min_light</th>\n",
       "      <th>max_light</th>\n",
       "      <th>features</th>\n",
       "    </tr>\n",
       "  </thead>\n",
       "  <tbody>\n",
       "    <tr>\n",
       "      <th>0</th>\n",
       "      <td>1</td>\n",
       "      <td>-2.532818</td>\n",
       "      <td>29.684726</td>\n",
       "      <td>-0.531405</td>\n",
       "      <td>0.06</td>\n",
       "      <td>0.0</td>\n",
       "      <td>0.596992</td>\n",
       "      <td>0.0</td>\n",
       "      <td>6.0</td>\n",
       "      <td>[0.0, 0.0, 0.0, 0.0, 1.3173025, 0.0, 1.180438,...</td>\n",
       "    </tr>\n",
       "    <tr>\n",
       "      <th>1</th>\n",
       "      <td>2</td>\n",
       "      <td>-1.833858</td>\n",
       "      <td>30.310689</td>\n",
       "      <td>-0.409830</td>\n",
       "      <td>0.00</td>\n",
       "      <td>0.0</td>\n",
       "      <td>0.000000</td>\n",
       "      <td>0.0</td>\n",
       "      <td>0.0</td>\n",
       "      <td>[0.0, 0.0, 0.0, 1.4845816, 2.3637195, 0.0, 1.4...</td>\n",
       "    </tr>\n",
       "    <tr>\n",
       "      <th>2</th>\n",
       "      <td>3</td>\n",
       "      <td>-1.888155</td>\n",
       "      <td>29.478298</td>\n",
       "      <td>-0.478115</td>\n",
       "      <td>0.00</td>\n",
       "      <td>0.0</td>\n",
       "      <td>0.000000</td>\n",
       "      <td>0.0</td>\n",
       "      <td>0.0</td>\n",
       "      <td>[0.0, 1.2253599, 0.0, 4.373325, 2.237329, 0.0,...</td>\n",
       "    </tr>\n",
       "    <tr>\n",
       "      <th>3</th>\n",
       "      <td>4</td>\n",
       "      <td>-2.366763</td>\n",
       "      <td>30.521692</td>\n",
       "      <td>-0.435960</td>\n",
       "      <td>0.00</td>\n",
       "      <td>0.0</td>\n",
       "      <td>0.000000</td>\n",
       "      <td>0.0</td>\n",
       "      <td>0.0</td>\n",
       "      <td>[0.0, 0.0, 0.0, 0.0, 1.5691879, 0.0, 1.3579657...</td>\n",
       "    </tr>\n",
       "    <tr>\n",
       "      <th>4</th>\n",
       "      <td>5</td>\n",
       "      <td>-2.171266</td>\n",
       "      <td>30.018541</td>\n",
       "      <td>-0.449480</td>\n",
       "      <td>0.00</td>\n",
       "      <td>0.0</td>\n",
       "      <td>0.000000</td>\n",
       "      <td>0.0</td>\n",
       "      <td>0.0</td>\n",
       "      <td>[0.0, 0.0, 0.0, 2.745697, 2.8115597, 0.0, 0.07...</td>\n",
       "    </tr>\n",
       "  </tbody>\n",
       "</table>\n",
       "</div>"
      ],
      "text/plain": [
       "   cluster  latitude  longitude  wealth_index  mean_light  median_light  \\\n",
       "0        1 -2.532818  29.684726     -0.531405        0.06           0.0   \n",
       "1        2 -1.833858  30.310689     -0.409830        0.00           0.0   \n",
       "2        3 -1.888155  29.478298     -0.478115        0.00           0.0   \n",
       "3        4 -2.366763  30.521692     -0.435960        0.00           0.0   \n",
       "4        5 -2.171266  30.018541     -0.449480        0.00           0.0   \n",
       "\n",
       "   std_light  min_light  max_light  \\\n",
       "0   0.596992        0.0        6.0   \n",
       "1   0.000000        0.0        0.0   \n",
       "2   0.000000        0.0        0.0   \n",
       "3   0.000000        0.0        0.0   \n",
       "4   0.000000        0.0        0.0   \n",
       "\n",
       "                                            features  \n",
       "0  [0.0, 0.0, 0.0, 0.0, 1.3173025, 0.0, 1.180438,...  \n",
       "1  [0.0, 0.0, 0.0, 1.4845816, 2.3637195, 0.0, 1.4...  \n",
       "2  [0.0, 1.2253599, 0.0, 4.373325, 2.237329, 0.0,...  \n",
       "3  [0.0, 0.0, 0.0, 0.0, 1.5691879, 0.0, 1.3579657...  \n",
       "4  [0.0, 0.0, 0.0, 2.745697, 2.8115597, 0.0, 0.07...  "
      ]
     },
     "execution_count": 15,
     "metadata": {},
     "output_type": "execute_result"
    }
   ],
   "source": [
    "df_merged = pd.merge(df_rwanda, df_features, how='inner', left_on='cluster', right_on='id')[['cluster', 'latitude',\n",
    "                                                                                            'longitude',\n",
    "                                                                                            'wealth_index',\n",
    "                                                                                            'mean_light',\n",
    "                                                                                            'median_light',\n",
    "                                                                                            'std_light',\n",
    "                                                                                            'min_light',\n",
    "                                                                                            'max_light',\n",
    "                                                                                            'features']]\n",
    "df_merged.head()"
   ]
  },
  {
   "cell_type": "code",
   "execution_count": 16,
   "metadata": {},
   "outputs": [],
   "source": [
    "df_merged.to_pickle('./data/rwanda_deep.csv')"
   ]
  },
  {
   "cell_type": "markdown",
   "metadata": {},
   "source": [
    "# Predict from deep features"
   ]
  },
  {
   "cell_type": "code",
   "execution_count": 204,
   "metadata": {},
   "outputs": [],
   "source": [
    "import pandas as pd\n",
    "from sklearn.model_selection import train_test_split\n",
    "import matplotlib.pyplot as plt\n",
    "import numpy as np"
   ]
  },
  {
   "cell_type": "code",
   "execution_count": 205,
   "metadata": {},
   "outputs": [],
   "source": [
    "df_rwanda = pd.read_pickle('./data/rwanda_deep.csv')\n",
    "\n",
    "X = np.array([df_rwanda['features'].values[i] for i in range(df_rwanda['features'].values.shape[0])])\n",
    "X = np.concatenate([X, df_rwanda['mean_light'].values.reshape((-1, 1))], axis=1)\n",
    "y = df_rwanda['wealth_index'].values.reshape((-1, 1))\n",
    "\n",
    "X_train, X_test, y_train, y_test = train_test_split(X, y, test_size=0.40, random_state=42)"
   ]
  },
  {
   "cell_type": "code",
   "execution_count": 206,
   "metadata": {},
   "outputs": [
    {
     "name": "stdout",
     "output_type": "stream",
     "text": [
      "MSE on train data : 0.0\n",
      "MSE on test data : 0.34\n",
      "R2-score : 0.62\n"
     ]
    }
   ],
   "source": [
    "from sklearn.linear_model import LinearRegression\n",
    "\n",
    "estimator = LinearRegression()\n",
    "estimator.fit(X_train, y_train)\n",
    "\n",
    "print('MSE on train data :', round(((y_train - estimator.predict(X_train)) ** 2).mean()))\n",
    "print('MSE on test data :', round(((y_test - estimator.predict(X_test)) ** 2).mean(), 2))\n",
    "print('R2-score :', round(estimator.score(X_test, y_test), 2))"
   ]
  },
  {
   "cell_type": "code",
   "execution_count": 207,
   "metadata": {},
   "outputs": [
    {
     "data": {
      "text/plain": [
       "PCA(copy=True, iterated_power='auto', n_components=4, random_state=None,\n",
       "  svd_solver='auto', tol=0.0, whiten=False)"
      ]
     },
     "execution_count": 207,
     "metadata": {},
     "output_type": "execute_result"
    }
   ],
   "source": [
    "from sklearn.decomposition import PCA\n",
    "\n",
    "pca = PCA(n_components=4)\n",
    "pca.fit(X_train[:,:4096])"
   ]
  },
  {
   "cell_type": "code",
   "execution_count": 208,
   "metadata": {},
   "outputs": [
    {
     "name": "stdout",
     "output_type": "stream",
     "text": [
      "(295, 5) (295, 4097)\n"
     ]
    }
   ],
   "source": [
    "X_train_sparse = pca.transform(X_train[:, :4096])\n",
    "X_test_sparse = pca.transform(X_test[:, :4096])\n",
    "\n",
    "X_train_sparse = np.concatenate([X_train_sparse, X_train[:,4096:]], axis=1)\n",
    "X_test_sparse = np.concatenate([X_test_sparse, X_test[:,4096:]], axis=1)\n",
    "\n",
    "print(X_train_sparse.shape, X_train.shape)"
   ]
  },
  {
   "cell_type": "code",
   "execution_count": 184,
   "metadata": {},
   "outputs": [
    {
     "name": "stdout",
     "output_type": "stream",
     "text": [
      "MSE on train data : 0.12\n",
      "MSE on test data : 0.27\n",
      "R2-score : 0.7\n"
     ]
    }
   ],
   "source": [
    "estimator = LinearRegression()\n",
    "estimator.fit(X_train_sparse, y_train)\n",
    "\n",
    "print('MSE on train data :', round(((y_train - estimator.predict(X_train_sparse)) ** 2).mean(), 2))\n",
    "print('MSE on test data :', round(((y_test - estimator.predict(X_test_sparse)) ** 2).mean(), 2))\n",
    "print('R2-score :', round(estimator.score(X_test_sparse, y_test), 2))"
   ]
  },
  {
   "cell_type": "code",
   "execution_count": 185,
   "metadata": {},
   "outputs": [
    {
     "name": "stdout",
     "output_type": "stream",
     "text": [
      "alpha =  2840.883690183304\n",
      "MSE on train data : 0.15\n",
      "MSE on test data : 0.24\n",
      "R2-score : 0.73\n"
     ]
    }
   ],
   "source": [
    "from sklearn.linear_model import Ridge, RidgeCV\n",
    "\n",
    "estimator = RidgeCV(alphas=np.logspace(0, 6, 1000))\n",
    "estimator.fit(X_train_sparse, y_train)\n",
    "\n",
    "print('alpha = ', estimator.alpha_)\n",
    "\n",
    "print('MSE on train data :', round(((y_train - estimator.predict(X_train_sparse)) ** 2).mean(), 2))\n",
    "print('MSE on test data :', round(((y_test - estimator.predict(X_test_sparse)) ** 2).mean(), 2))\n",
    "print('R2-score :', round(estimator.score(X_test_sparse, y_test), 2))"
   ]
  },
  {
   "cell_type": "code",
   "execution_count": 186,
   "metadata": {},
   "outputs": [
    {
     "name": "stdout",
     "output_type": "stream",
     "text": [
      "alpha =  0.24201282647943834\n",
      "MSE on train data : 1.02\n",
      "MSE on test data : 1.37\n",
      "R2-score : 0.77\n"
     ]
    },
    {
     "name": "stderr",
     "output_type": "stream",
     "text": [
      "/home/ridouane/anaconda3/envs/Predict-poverty/lib/python3.5/site-packages/sklearn/linear_model/coordinate_descent.py:1108: DataConversionWarning: A column-vector y was passed when a 1d array was expected. Please change the shape of y to (n_samples, ), for example using ravel().\n",
      "  y = column_or_1d(y, warn=True)\n",
      "/home/ridouane/anaconda3/envs/Predict-poverty/lib/python3.5/site-packages/sklearn/model_selection/_split.py:1943: FutureWarning: You should specify a value for 'cv' instead of relying on the default value. The default value will change from 3 to 5 in version 0.22.\n",
      "  warnings.warn(CV_WARNING, FutureWarning)\n"
     ]
    }
   ],
   "source": [
    "from sklearn.linear_model import Lasso, LassoCV\n",
    "\n",
    "estimator = LassoCV(alphas=np.logspace(-6, 7, 100))\n",
    "estimator.fit(X_train_sparse, y_train)\n",
    "\n",
    "print('alpha = ', estimator.alpha_)\n",
    "\n",
    "print('MSE on train data :', round(((y_train - estimator.predict(X_train_sparse)) ** 2).mean(), 2))\n",
    "print('MSE on test data :', round(((y_test - estimator.predict(X_test_sparse)) ** 2).mean(), 2))\n",
    "print('R2-score :', round(estimator.score(X_test_sparse, y_test), 2))"
   ]
  },
  {
   "cell_type": "code",
   "execution_count": 187,
   "metadata": {},
   "outputs": [
    {
     "data": {
      "text/plain": [
       "(295, 5)"
      ]
     },
     "execution_count": 187,
     "metadata": {},
     "output_type": "execute_result"
    }
   ],
   "source": [
    "from sklearn.feature_selection import SelectFromModel\n",
    "\n",
    "model = SelectFromModel(estimator, prefit=True)\n",
    "X_new = model.transform(X_train_sparse)\n",
    "X_new.shape"
   ]
  },
  {
   "cell_type": "code",
   "execution_count": 227,
   "metadata": {},
   "outputs": [],
   "source": [
    "from sklearn.preprocessing import PolynomialFeatures\n",
    "\n",
    "poly = PolynomialFeatures(degree=1)\n",
    "X_train_pol = poly.fit_transform(X_train_sparse)\n",
    "X_test_pol = poly.fit_transform(X_test_sparse)"
   ]
  },
  {
   "cell_type": "code",
   "execution_count": 228,
   "metadata": {},
   "outputs": [
    {
     "name": "stdout",
     "output_type": "stream",
     "text": [
      "alpha =  481.5957910192351\n",
      "MSE on train data : 0.18\n",
      "MSE on test data : 0.21\n",
      "R2-score : 0.77\n"
     ]
    }
   ],
   "source": [
    "from sklearn.linear_model import Ridge, RidgeCV\n",
    "\n",
    "estimator = RidgeCV(alphas=np.logspace(0, 10, 1000))\n",
    "estimator.fit(X_train_pol, y_train)\n",
    "\n",
    "print('alpha = ', estimator.alpha_)\n",
    "\n",
    "print('MSE on train data :', round(((y_train - estimator.predict(X_train_pol)) ** 2).mean(), 2))\n",
    "print('MSE on test data :', round(((y_test - estimator.predict(X_test_pol)) ** 2).mean(), 2))\n",
    "print('R2-score :', round(estimator.score(X_test_pol, y_test), 2))"
   ]
  },
  {
   "cell_type": "code",
   "execution_count": null,
   "metadata": {},
   "outputs": [],
   "source": []
  }
 ],
 "metadata": {
  "kernelspec": {
   "display_name": "Python3.5 Predict-poverty",
   "language": "python",
   "name": "predict-poverty"
  },
  "language_info": {
   "codemirror_mode": {
    "name": "ipython",
    "version": 3
   },
   "file_extension": ".py",
   "mimetype": "text/x-python",
   "name": "python",
   "nbconvert_exporter": "python",
   "pygments_lexer": "ipython3",
   "version": "3.5.6"
  }
 },
 "nbformat": 4,
 "nbformat_minor": 2
}
