{
 "cells": [
  {
   "cell_type": "code",
   "execution_count": 60,
   "metadata": {},
   "outputs": [],
   "source": [
    "import pandas as pd\n",
    "from simpledbf import Dbf5\n",
    "import seaborn as sns\n",
    "from osgeo import gdal, ogr, osr\n",
    "import numpy as np"
   ]
  },
  {
   "cell_type": "markdown",
   "metadata": {},
   "source": [
    "## 1) Import wealth and geographical data"
   ]
  },
  {
   "cell_type": "markdown",
   "metadata": {},
   "source": [
    "The objective is to import two dataset : the first one corresponds to the surveys' results, in particular the wealth index, and the second one corresponds to the geographical coordinates linked to these surveys."
   ]
  },
  {
   "cell_type": "code",
   "execution_count": 2,
   "metadata": {},
   "outputs": [],
   "source": [
    "wealth_file = './data/wealth_surveys/DHS/Rwanda_2010/RWHR61FL.DTA'\n",
    "geo_file = './data/wealth_surveys/DHS/Rwanda_2010/RWGE61FL.dbf'"
   ]
  },
  {
   "cell_type": "markdown",
   "metadata": {},
   "source": [
    "The first file (RWHR61FL.DTA) contains the surveys' results. Two columns are of particular interest to us : HV001 is an identifier that links to geographic data and HV271 contains an index of the region's wealth."
   ]
  },
  {
   "cell_type": "code",
   "execution_count": 3,
   "metadata": {},
   "outputs": [
    {
     "data": {
      "text/html": [
       "<div>\n",
       "<style scoped>\n",
       "    .dataframe tbody tr th:only-of-type {\n",
       "        vertical-align: middle;\n",
       "    }\n",
       "\n",
       "    .dataframe tbody tr th {\n",
       "        vertical-align: top;\n",
       "    }\n",
       "\n",
       "    .dataframe thead th {\n",
       "        text-align: right;\n",
       "    }\n",
       "</style>\n",
       "<table border=\"1\" class=\"dataframe\">\n",
       "  <thead>\n",
       "    <tr style=\"text-align: right;\">\n",
       "      <th></th>\n",
       "      <th>hhid</th>\n",
       "      <th>hv000</th>\n",
       "      <th>hv001</th>\n",
       "      <th>hv002</th>\n",
       "      <th>hv003</th>\n",
       "      <th>hv004</th>\n",
       "      <th>hv005</th>\n",
       "      <th>hv006</th>\n",
       "      <th>hv007</th>\n",
       "      <th>hv008</th>\n",
       "      <th>...</th>\n",
       "      <th>sh175_7</th>\n",
       "      <th>sh175_8</th>\n",
       "      <th>sh176_1</th>\n",
       "      <th>sh176_2</th>\n",
       "      <th>sh176_3</th>\n",
       "      <th>sh176_4</th>\n",
       "      <th>sh176_5</th>\n",
       "      <th>sh176_6</th>\n",
       "      <th>sh176_7</th>\n",
       "      <th>sh176_8</th>\n",
       "    </tr>\n",
       "  </thead>\n",
       "  <tbody>\n",
       "    <tr>\n",
       "      <th>0</th>\n",
       "      <td>12115</td>\n",
       "      <td>RW6</td>\n",
       "      <td>121</td>\n",
       "      <td>15</td>\n",
       "      <td>2</td>\n",
       "      <td>121</td>\n",
       "      <td>737365</td>\n",
       "      <td>2</td>\n",
       "      <td>2011</td>\n",
       "      <td>1334</td>\n",
       "      <td>...</td>\n",
       "      <td>NaN</td>\n",
       "      <td>NaN</td>\n",
       "      <td>NaN</td>\n",
       "      <td>NaN</td>\n",
       "      <td>NaN</td>\n",
       "      <td>NaN</td>\n",
       "      <td>NaN</td>\n",
       "      <td>NaN</td>\n",
       "      <td>NaN</td>\n",
       "      <td>NaN</td>\n",
       "    </tr>\n",
       "    <tr>\n",
       "      <th>1</th>\n",
       "      <td>12119</td>\n",
       "      <td>RW6</td>\n",
       "      <td>121</td>\n",
       "      <td>19</td>\n",
       "      <td>1</td>\n",
       "      <td>121</td>\n",
       "      <td>737365</td>\n",
       "      <td>3</td>\n",
       "      <td>2011</td>\n",
       "      <td>1335</td>\n",
       "      <td>...</td>\n",
       "      <td>NaN</td>\n",
       "      <td>NaN</td>\n",
       "      <td>NaN</td>\n",
       "      <td>NaN</td>\n",
       "      <td>NaN</td>\n",
       "      <td>NaN</td>\n",
       "      <td>NaN</td>\n",
       "      <td>NaN</td>\n",
       "      <td>NaN</td>\n",
       "      <td>NaN</td>\n",
       "    </tr>\n",
       "    <tr>\n",
       "      <th>2</th>\n",
       "      <td>12121</td>\n",
       "      <td>RW6</td>\n",
       "      <td>121</td>\n",
       "      <td>21</td>\n",
       "      <td>2</td>\n",
       "      <td>121</td>\n",
       "      <td>737365</td>\n",
       "      <td>2</td>\n",
       "      <td>2011</td>\n",
       "      <td>1334</td>\n",
       "      <td>...</td>\n",
       "      <td>NaN</td>\n",
       "      <td>NaN</td>\n",
       "      <td>NaN</td>\n",
       "      <td>NaN</td>\n",
       "      <td>NaN</td>\n",
       "      <td>NaN</td>\n",
       "      <td>NaN</td>\n",
       "      <td>NaN</td>\n",
       "      <td>NaN</td>\n",
       "      <td>NaN</td>\n",
       "    </tr>\n",
       "    <tr>\n",
       "      <th>3</th>\n",
       "      <td>12116</td>\n",
       "      <td>RW6</td>\n",
       "      <td>121</td>\n",
       "      <td>16</td>\n",
       "      <td>2</td>\n",
       "      <td>121</td>\n",
       "      <td>737365</td>\n",
       "      <td>2</td>\n",
       "      <td>2011</td>\n",
       "      <td>1334</td>\n",
       "      <td>...</td>\n",
       "      <td>NaN</td>\n",
       "      <td>NaN</td>\n",
       "      <td>NaN</td>\n",
       "      <td>NaN</td>\n",
       "      <td>NaN</td>\n",
       "      <td>NaN</td>\n",
       "      <td>NaN</td>\n",
       "      <td>NaN</td>\n",
       "      <td>NaN</td>\n",
       "      <td>NaN</td>\n",
       "    </tr>\n",
       "    <tr>\n",
       "      <th>4</th>\n",
       "      <td>121 3</td>\n",
       "      <td>RW6</td>\n",
       "      <td>121</td>\n",
       "      <td>3</td>\n",
       "      <td>2</td>\n",
       "      <td>121</td>\n",
       "      <td>737365</td>\n",
       "      <td>2</td>\n",
       "      <td>2011</td>\n",
       "      <td>1334</td>\n",
       "      <td>...</td>\n",
       "      <td>NaN</td>\n",
       "      <td>NaN</td>\n",
       "      <td>NaN</td>\n",
       "      <td>NaN</td>\n",
       "      <td>NaN</td>\n",
       "      <td>NaN</td>\n",
       "      <td>NaN</td>\n",
       "      <td>NaN</td>\n",
       "      <td>NaN</td>\n",
       "      <td>NaN</td>\n",
       "    </tr>\n",
       "  </tbody>\n",
       "</table>\n",
       "<p>5 rows × 3396 columns</p>\n",
       "</div>"
      ],
      "text/plain": [
       "           hhid hv000  hv001  hv002 hv003  hv004   hv005  hv006  hv007  hv008  \\\n",
       "0         12115   RW6    121     15     2    121  737365      2   2011   1334   \n",
       "1         12119   RW6    121     19     1    121  737365      3   2011   1335   \n",
       "2         12121   RW6    121     21     2    121  737365      2   2011   1334   \n",
       "3         12116   RW6    121     16     2    121  737365      2   2011   1334   \n",
       "4         121 3   RW6    121      3     2    121  737365      2   2011   1334   \n",
       "\n",
       "    ...     sh175_7  sh175_8  sh176_1  sh176_2  sh176_3  sh176_4 sh176_5  \\\n",
       "0   ...         NaN      NaN      NaN      NaN      NaN      NaN     NaN   \n",
       "1   ...         NaN      NaN      NaN      NaN      NaN      NaN     NaN   \n",
       "2   ...         NaN      NaN      NaN      NaN      NaN      NaN     NaN   \n",
       "3   ...         NaN      NaN      NaN      NaN      NaN      NaN     NaN   \n",
       "4   ...         NaN      NaN      NaN      NaN      NaN      NaN     NaN   \n",
       "\n",
       "   sh176_6  sh176_7  sh176_8  \n",
       "0      NaN      NaN      NaN  \n",
       "1      NaN      NaN      NaN  \n",
       "2      NaN      NaN      NaN  \n",
       "3      NaN      NaN      NaN  \n",
       "4      NaN      NaN      NaN  \n",
       "\n",
       "[5 rows x 3396 columns]"
      ]
     },
     "execution_count": 3,
     "metadata": {},
     "output_type": "execute_result"
    }
   ],
   "source": [
    "df_wealth = pd.read_stata(wealth_file)\n",
    "df_wealth.head()"
   ]
  },
  {
   "cell_type": "code",
   "execution_count": 4,
   "metadata": {},
   "outputs": [
    {
     "data": {
      "text/html": [
       "<div>\n",
       "<style scoped>\n",
       "    .dataframe tbody tr th:only-of-type {\n",
       "        vertical-align: middle;\n",
       "    }\n",
       "\n",
       "    .dataframe tbody tr th {\n",
       "        vertical-align: top;\n",
       "    }\n",
       "\n",
       "    .dataframe thead th {\n",
       "        text-align: right;\n",
       "    }\n",
       "</style>\n",
       "<table border=\"1\" class=\"dataframe\">\n",
       "  <thead>\n",
       "    <tr style=\"text-align: right;\">\n",
       "      <th></th>\n",
       "      <th>hv001</th>\n",
       "      <th>hv271</th>\n",
       "    </tr>\n",
       "  </thead>\n",
       "  <tbody>\n",
       "    <tr>\n",
       "      <th>0</th>\n",
       "      <td>1</td>\n",
       "      <td>-0.531405</td>\n",
       "    </tr>\n",
       "    <tr>\n",
       "      <th>1</th>\n",
       "      <td>2</td>\n",
       "      <td>-0.409830</td>\n",
       "    </tr>\n",
       "    <tr>\n",
       "      <th>2</th>\n",
       "      <td>3</td>\n",
       "      <td>-0.478115</td>\n",
       "    </tr>\n",
       "    <tr>\n",
       "      <th>3</th>\n",
       "      <td>4</td>\n",
       "      <td>-0.435960</td>\n",
       "    </tr>\n",
       "    <tr>\n",
       "      <th>4</th>\n",
       "      <td>5</td>\n",
       "      <td>-0.449480</td>\n",
       "    </tr>\n",
       "  </tbody>\n",
       "</table>\n",
       "</div>"
      ],
      "text/plain": [
       "   hv001     hv271\n",
       "0      1 -0.531405\n",
       "1      2 -0.409830\n",
       "2      3 -0.478115\n",
       "3      4 -0.435960\n",
       "4      5 -0.449480"
      ]
     },
     "execution_count": 4,
     "metadata": {},
     "output_type": "execute_result"
    }
   ],
   "source": [
    "result_wealth = df_wealth.groupby('hv001')['hv271'].median().reset_index()\n",
    "result_wealth['hv271'] /= 100000.\n",
    "result_wealth.head()"
   ]
  },
  {
   "cell_type": "markdown",
   "metadata": {},
   "source": [
    "The second file contains the surveys' geographical coordinates. We are particularly interested in the DHSCLUST column which links to the clusters in the previous file as well as the LATNUM and LONGNUM columns which will gives us the coordinates of the region. We'll then be able to have access to the light intensity of these geographical areas as well as the satellite images."
   ]
  },
  {
   "cell_type": "code",
   "execution_count": 5,
   "metadata": {},
   "outputs": [],
   "source": [
    "dbf = Dbf5(geo_file)\n",
    "df_geo = dbf.to_dataframe()"
   ]
  },
  {
   "cell_type": "code",
   "execution_count": 6,
   "metadata": {},
   "outputs": [
    {
     "name": "stderr",
     "output_type": "stream",
     "text": [
      "/home/ridouane/anaconda3/envs/Predict-poverty/lib/python3.5/site-packages/ipykernel_launcher.py:2: SettingWithCopyWarning: \n",
      "A value is trying to be set on a copy of a slice from a DataFrame.\n",
      "Try using .loc[row_indexer,col_indexer] = value instead\n",
      "\n",
      "See the caveats in the documentation: http://pandas.pydata.org/pandas-docs/stable/indexing.html#indexing-view-versus-copy\n",
      "  \n"
     ]
    },
    {
     "data": {
      "text/html": [
       "<div>\n",
       "<style scoped>\n",
       "    .dataframe tbody tr th:only-of-type {\n",
       "        vertical-align: middle;\n",
       "    }\n",
       "\n",
       "    .dataframe tbody tr th {\n",
       "        vertical-align: top;\n",
       "    }\n",
       "\n",
       "    .dataframe thead th {\n",
       "        text-align: right;\n",
       "    }\n",
       "</style>\n",
       "<table border=\"1\" class=\"dataframe\">\n",
       "  <thead>\n",
       "    <tr style=\"text-align: right;\">\n",
       "      <th></th>\n",
       "      <th>DHSCLUST</th>\n",
       "      <th>LATNUM</th>\n",
       "      <th>LONGNUM</th>\n",
       "    </tr>\n",
       "  </thead>\n",
       "  <tbody>\n",
       "    <tr>\n",
       "      <th>0</th>\n",
       "      <td>1</td>\n",
       "      <td>-2.532818</td>\n",
       "      <td>29.684726</td>\n",
       "    </tr>\n",
       "    <tr>\n",
       "      <th>1</th>\n",
       "      <td>2</td>\n",
       "      <td>-1.833858</td>\n",
       "      <td>30.310689</td>\n",
       "    </tr>\n",
       "    <tr>\n",
       "      <th>2</th>\n",
       "      <td>3</td>\n",
       "      <td>-1.888155</td>\n",
       "      <td>29.478298</td>\n",
       "    </tr>\n",
       "    <tr>\n",
       "      <th>3</th>\n",
       "      <td>4</td>\n",
       "      <td>-2.366763</td>\n",
       "      <td>30.521692</td>\n",
       "    </tr>\n",
       "    <tr>\n",
       "      <th>4</th>\n",
       "      <td>5</td>\n",
       "      <td>-2.171266</td>\n",
       "      <td>30.018541</td>\n",
       "    </tr>\n",
       "  </tbody>\n",
       "</table>\n",
       "</div>"
      ],
      "text/plain": [
       "   DHSCLUST    LATNUM    LONGNUM\n",
       "0         1 -2.532818  29.684726\n",
       "1         2 -1.833858  30.310689\n",
       "2         3 -1.888155  29.478298\n",
       "3         4 -2.366763  30.521692\n",
       "4         5 -2.171266  30.018541"
      ]
     },
     "execution_count": 6,
     "metadata": {},
     "output_type": "execute_result"
    }
   ],
   "source": [
    "result_geo = df_geo[['DHSCLUST', 'LATNUM', 'LONGNUM']]\n",
    "result_geo['DHSCLUST'] = result_geo['DHSCLUST'].astype(int)\n",
    "result_geo.head()"
   ]
  },
  {
   "cell_type": "markdown",
   "metadata": {},
   "source": [
    "## 2) Merge wealth and geographical data"
   ]
  },
  {
   "cell_type": "markdown",
   "metadata": {},
   "source": [
    "We then combine the two previous tables to have the wealth and coordinates of each region."
   ]
  },
  {
   "cell_type": "code",
   "execution_count": 7,
   "metadata": {},
   "outputs": [
    {
     "data": {
      "text/html": [
       "<div>\n",
       "<style scoped>\n",
       "    .dataframe tbody tr th:only-of-type {\n",
       "        vertical-align: middle;\n",
       "    }\n",
       "\n",
       "    .dataframe tbody tr th {\n",
       "        vertical-align: top;\n",
       "    }\n",
       "\n",
       "    .dataframe thead th {\n",
       "        text-align: right;\n",
       "    }\n",
       "</style>\n",
       "<table border=\"1\" class=\"dataframe\">\n",
       "  <thead>\n",
       "    <tr style=\"text-align: right;\">\n",
       "      <th></th>\n",
       "      <th>cluster</th>\n",
       "      <th>latitude</th>\n",
       "      <th>longitude</th>\n",
       "      <th>wealth_index</th>\n",
       "    </tr>\n",
       "  </thead>\n",
       "  <tbody>\n",
       "    <tr>\n",
       "      <th>0</th>\n",
       "      <td>1</td>\n",
       "      <td>-2.532818</td>\n",
       "      <td>29.684726</td>\n",
       "      <td>-0.531405</td>\n",
       "    </tr>\n",
       "    <tr>\n",
       "      <th>1</th>\n",
       "      <td>2</td>\n",
       "      <td>-1.833858</td>\n",
       "      <td>30.310689</td>\n",
       "      <td>-0.409830</td>\n",
       "    </tr>\n",
       "    <tr>\n",
       "      <th>2</th>\n",
       "      <td>3</td>\n",
       "      <td>-1.888155</td>\n",
       "      <td>29.478298</td>\n",
       "      <td>-0.478115</td>\n",
       "    </tr>\n",
       "    <tr>\n",
       "      <th>3</th>\n",
       "      <td>4</td>\n",
       "      <td>-2.366763</td>\n",
       "      <td>30.521692</td>\n",
       "      <td>-0.435960</td>\n",
       "    </tr>\n",
       "    <tr>\n",
       "      <th>4</th>\n",
       "      <td>5</td>\n",
       "      <td>-2.171266</td>\n",
       "      <td>30.018541</td>\n",
       "      <td>-0.449480</td>\n",
       "    </tr>\n",
       "  </tbody>\n",
       "</table>\n",
       "</div>"
      ],
      "text/plain": [
       "   cluster  latitude  longitude  wealth_index\n",
       "0        1 -2.532818  29.684726     -0.531405\n",
       "1        2 -1.833858  30.310689     -0.409830\n",
       "2        3 -1.888155  29.478298     -0.478115\n",
       "3        4 -2.366763  30.521692     -0.435960\n",
       "4        5 -2.171266  30.018541     -0.449480"
      ]
     },
     "execution_count": 7,
     "metadata": {},
     "output_type": "execute_result"
    }
   ],
   "source": [
    "wealth_geo_merge = pd.merge(result_wealth, result_geo, how='inner', left_on='hv001', right_on='DHSCLUST')[['DHSCLUST', 'LATNUM', 'LONGNUM', 'hv271']]\n",
    "wealth_geo_merge = wealth_geo_merge.rename(columns={'DHSCLUST': 'cluster', 'LATNUM': 'latitude', 'LONGNUM': 'longitude', 'hv271': 'wealth_index'})\n",
    "wealth_geo_merge.head()"
   ]
  },
  {
   "cell_type": "code",
   "execution_count": 8,
   "metadata": {},
   "outputs": [
    {
     "name": "stdout",
     "output_type": "stream",
     "text": [
      "<class 'pandas.core.frame.DataFrame'>\n",
      "Int64Index: 492 entries, 0 to 491\n",
      "Data columns (total 4 columns):\n",
      "cluster         492 non-null int64\n",
      "latitude        492 non-null float64\n",
      "longitude       492 non-null float64\n",
      "wealth_index    492 non-null float64\n",
      "dtypes: float64(3), int64(1)\n",
      "memory usage: 19.2 KB\n"
     ]
    }
   ],
   "source": [
    "wealth_geo_merge.info()"
   ]
  },
  {
   "cell_type": "code",
   "execution_count": 68,
   "metadata": {},
   "outputs": [
    {
     "name": "stdout",
     "output_type": "stream",
     "text": [
      "492\n"
     ]
    }
   ],
   "source": [
    "n_clust = wealth_geo_merge['cluster'].max()\n",
    "print(n_clust)"
   ]
  },
  {
   "cell_type": "code",
   "execution_count": 11,
   "metadata": {},
   "outputs": [
    {
     "data": {
      "text/plain": [
       "[]"
      ]
     },
     "execution_count": 11,
     "metadata": {},
     "output_type": "execute_result"
    }
   ],
   "source": [
    "to_drop = []\n",
    "for index, row in wealth_geo_merge.iterrows() :\n",
    "    sample = row['longitude'], row['latitude']\n",
    "    if sample == (0., 0.):\n",
    "        to_drop.append(index)\n",
    "wealth_geo_merge = wealth_geo_merge.drop(to_drop)"
   ]
  },
  {
   "cell_type": "code",
   "execution_count": 49,
   "metadata": {},
   "outputs": [
    {
     "data": {
      "text/plain": [
       "<matplotlib.axes._subplots.AxesSubplot at 0x7f195406afd0>"
      ]
     },
     "execution_count": 49,
     "metadata": {},
     "output_type": "execute_result"
    },
    {
     "data": {
      "image/png": "[encoded data removed]",
      "text/plain": [
       "<Figure size 432x288 with 1 Axes>"
      ]
     },
     "metadata": {
      "needs_background": "light"
     },
     "output_type": "display_data"
    }
   ],
   "source": [
    "sns.scatterplot(x='longitude', y='latitude', \n",
    "                hue='wealth_index', palette='Greens', \n",
    "                size='wealth_index', sizes=(10, 200), \n",
    "                data=wealth_geo_merge)"
   ]
  },
  {
   "cell_type": "markdown",
   "metadata": {},
   "source": [
    "## 3) Import nightlights intensities data"
   ]
  },
  {
   "cell_type": "markdown",
   "metadata": {},
   "source": [
    "Here, we import the dataset containing the nightlight intensities over the entire Earth's surface."
   ]
  },
  {
   "cell_type": "code",
   "execution_count": 55,
   "metadata": {},
   "outputs": [],
   "source": [
    "night_file = './data/nightlight_intensities/F182010.v4d_web.stable_lights.avg_vis.tif'"
   ]
  },
  {
   "cell_type": "code",
   "execution_count": 56,
   "metadata": {},
   "outputs": [],
   "source": [
    "dataset = gdal.Open(night_file, gdal.GA_ReadOnly)"
   ]
  },
  {
   "cell_type": "code",
   "execution_count": 57,
   "metadata": {},
   "outputs": [
    {
     "name": "stdout",
     "output_type": "stream",
     "text": [
      "Driver: GTiff/GeoTIFF\n",
      "Size is 43201 x 16801 x 1\n",
      "Projection is GEOGCS[\"WGS 84\",DATUM[\"WGS_1984\",SPHEROID[\"WGS 84\",6378137,298.257223563,AUTHORITY[\"EPSG\",\"7030\"]],AUTHORITY[\"EPSG\",\"6326\"]],PRIMEM[\"Greenwich\",0],UNIT[\"degree\",0.0174532925199433],AUTHORITY[\"EPSG\",\"4326\"]]\n",
      "Origin = (-180.00416666665, 75.00416666665)\n",
      "Pixel Size = (0.0083333333, -0.0083333333)\n"
     ]
    }
   ],
   "source": [
    "print(\"Driver: {}/{}\".format(dataset.GetDriver().ShortName,\n",
    "                             dataset.GetDriver().LongName))\n",
    "print(\"Size is {} x {} x {}\".format(dataset.RasterXSize,\n",
    "                                    dataset.RasterYSize,\n",
    "                                    dataset.RasterCount))\n",
    "print(\"Projection is {}\".format(dataset.GetProjection()))\n",
    "(upper_left_x, x_size, x_rotation, upper_left_y, y_rotation, y_size) = dataset.GetGeoTransform()\n",
    "print(\"Origin = ({}, {})\".format(upper_left_x, upper_left_y))\n",
    "print(\"Pixel Size = ({}, {})\".format(x_size, y_size))"
   ]
  },
  {
   "cell_type": "code",
   "execution_count": 58,
   "metadata": {},
   "outputs": [
    {
     "name": "stdout",
     "output_type": "stream",
     "text": [
      "Band Type=Byte\n",
      "Min=0.000, Max=63.000\n"
     ]
    }
   ],
   "source": [
    "band = dataset.GetRasterBand(1)\n",
    "print(\"Band Type={}\".format(gdal.GetDataTypeName(band.DataType)))\n",
    "      \n",
    "min = band.GetMinimum()\n",
    "max = band.GetMaximum()\n",
    "if not min or not max:\n",
    "    (min,max) = band.ComputeRasterMinMax(True)\n",
    "print(\"Min={:.3f}, Max={:.3f}\".format(min,max))"
   ]
  },
  {
   "cell_type": "code",
   "execution_count": 61,
   "metadata": {},
   "outputs": [],
   "source": [
    "band_array = band.ReadAsArray()\n",
    "rows, cols = np.shape(band_array)"
   ]
  },
  {
   "cell_type": "code",
   "execution_count": 62,
   "metadata": {},
   "outputs": [],
   "source": [
    "x_size = 1.0 / int(round(1 / float(x_size)))\n",
    "y_size = - x_size\n",
    "y_index = np.arange(band_array.shape[0])\n",
    "x_index = np.arange(band_array.shape[1])\n",
    "top_left_x_coords = upper_left_x + x_index * x_size\n",
    "top_left_y_coords = upper_left_y + y_index * y_size\n",
    "centroid_x_coords = top_left_x_coords + (x_size / 2)\n",
    "centroid_y_coords = top_left_y_coords + (y_size / 2)"
   ]
  },
  {
   "cell_type": "code",
   "execution_count": 63,
   "metadata": {},
   "outputs": [],
   "source": [
    "def get_cell_idx(lon, lat, top_left_x_coords, top_left_y_coords):\n",
    "    lon_idx = np.where(top_left_x_coords < lon)[0][-1]\n",
    "    lat_idx = np.where(top_left_y_coords > lat)[0][-1]\n",
    "    return lon_idx, lat_idx\n",
    "\n",
    "def get_nightlight_feature(sample):\n",
    "    x, y = sample\n",
    "    lon_idx, lat_idx = get_cell_idx(x, y, top_left_x_coords, top_left_y_coords)\n",
    "    \n",
    "    # Select the 10 * 10 pixels\n",
    "    left_idx = lon_idx - 5\n",
    "    right_idx = lon_idx + 4\n",
    "    up_idx = lat_idx - 5\n",
    "    low_idx = lat_idx + 4\n",
    "    luminosity_100 = []\n",
    "    \n",
    "    for i in range(left_idx, right_idx + 1):\n",
    "        for j in range(up_idx, low_idx + 1):\n",
    "            # Get the luminosity of this pixel\n",
    "            luminosity = band_array[j, i]\n",
    "            luminosity_100.append(luminosity)\n",
    "    \n",
    "    luminosity_100 = np.asarray(luminosity_100)\n",
    "    \n",
    "    max_ = np.max(luminosity_100)\n",
    "    min_ = np.min(luminosity_100)\n",
    "    mean_ = np.mean(luminosity_100)\n",
    "    median_ = np.median(luminosity_100)\n",
    "    std_ = np.std(luminosity_100)\n",
    "    \n",
    "    return max_, min_, mean_, median_, std_"
   ]
  },
  {
   "cell_type": "markdown",
   "metadata": {},
   "source": [
    "We now have a function that takes as input the coordinates of the region of interest and outputs the nightlight intensity of the area (10km2 precision). The function outputs the nightlight intensity in the following fomat : (maximum, minimum, average, median, standard deviation)."
   ]
  },
  {
   "cell_type": "code",
   "execution_count": 66,
   "metadata": {},
   "outputs": [
    {
     "name": "stdout",
     "output_type": "stream",
     "text": [
      "input : (29.290962, -2.191645)\n",
      "output : (0, 0, 0.0, 0.0, 0.0)\n"
     ]
    }
   ],
   "source": [
    "# example\n",
    "n = 20\n",
    "sample = wealth_geo_merge['longitude'][n], wealth_geo_merge['latitude'][n]\n",
    "print('input :', sample)\n",
    "print('output :', get_nightlight_feature((sample)))"
   ]
  },
  {
   "cell_type": "markdown",
   "metadata": {},
   "source": [
    "## 4) Merge wealth, geographical and nightlights intensities data"
   ]
  },
  {
   "cell_type": "markdown",
   "metadata": {},
   "source": [
    "We then combine all information we have : for each region, we have its geographical coordinates, the correspondig wealth index and the nightlight intensity of the region."
   ]
  },
  {
   "cell_type": "code",
   "execution_count": 69,
   "metadata": {},
   "outputs": [],
   "source": [
    "result_light = np.zeros([n_clust, 6])\n",
    "for index, row in wealth_geo_merge.iterrows() :\n",
    "    sample = row['longitude'], row['latitude']\n",
    "    max_, min_, mean_, median_, std_ = get_nightlight_feature(sample)\n",
    "    result_light[index] = [index+1, max_, min_, mean_, median_, std_]"
   ]
  },
  {
   "cell_type": "code",
   "execution_count": 70,
   "metadata": {},
   "outputs": [],
   "source": [
    "result_light = pd.DataFrame({'index': result_light[:,0],\n",
    "                             'max_light': result_light[:,1], \n",
    "                             'min_light': result_light[:,2],\n",
    "                             'mean_light': result_light[:,3],\n",
    "                             'median_light': result_light[:,4],\n",
    "                             'std_light': result_light[:,5]})\n",
    "result_light['index'] = result_light['index'].astype(int)"
   ]
  },
  {
   "cell_type": "code",
   "execution_count": 71,
   "metadata": {},
   "outputs": [
    {
     "data": {
      "text/html": [
       "<div>\n",
       "<style scoped>\n",
       "    .dataframe tbody tr th:only-of-type {\n",
       "        vertical-align: middle;\n",
       "    }\n",
       "\n",
       "    .dataframe tbody tr th {\n",
       "        vertical-align: top;\n",
       "    }\n",
       "\n",
       "    .dataframe thead th {\n",
       "        text-align: right;\n",
       "    }\n",
       "</style>\n",
       "<table border=\"1\" class=\"dataframe\">\n",
       "  <thead>\n",
       "    <tr style=\"text-align: right;\">\n",
       "      <th></th>\n",
       "      <th>cluster</th>\n",
       "      <th>latitude</th>\n",
       "      <th>longitude</th>\n",
       "      <th>wealth_index</th>\n",
       "      <th>mean_light</th>\n",
       "      <th>median_light</th>\n",
       "      <th>std_light</th>\n",
       "      <th>min_light</th>\n",
       "      <th>max_light</th>\n",
       "    </tr>\n",
       "  </thead>\n",
       "  <tbody>\n",
       "    <tr>\n",
       "      <th>0</th>\n",
       "      <td>1</td>\n",
       "      <td>-2.532818</td>\n",
       "      <td>29.684726</td>\n",
       "      <td>-0.531405</td>\n",
       "      <td>0.06</td>\n",
       "      <td>0.0</td>\n",
       "      <td>0.596992</td>\n",
       "      <td>0.0</td>\n",
       "      <td>6.0</td>\n",
       "    </tr>\n",
       "    <tr>\n",
       "      <th>1</th>\n",
       "      <td>2</td>\n",
       "      <td>-1.833858</td>\n",
       "      <td>30.310689</td>\n",
       "      <td>-0.409830</td>\n",
       "      <td>0.00</td>\n",
       "      <td>0.0</td>\n",
       "      <td>0.000000</td>\n",
       "      <td>0.0</td>\n",
       "      <td>0.0</td>\n",
       "    </tr>\n",
       "    <tr>\n",
       "      <th>2</th>\n",
       "      <td>3</td>\n",
       "      <td>-1.888155</td>\n",
       "      <td>29.478298</td>\n",
       "      <td>-0.478115</td>\n",
       "      <td>0.00</td>\n",
       "      <td>0.0</td>\n",
       "      <td>0.000000</td>\n",
       "      <td>0.0</td>\n",
       "      <td>0.0</td>\n",
       "    </tr>\n",
       "    <tr>\n",
       "      <th>3</th>\n",
       "      <td>4</td>\n",
       "      <td>-2.366763</td>\n",
       "      <td>30.521692</td>\n",
       "      <td>-0.435960</td>\n",
       "      <td>0.00</td>\n",
       "      <td>0.0</td>\n",
       "      <td>0.000000</td>\n",
       "      <td>0.0</td>\n",
       "      <td>0.0</td>\n",
       "    </tr>\n",
       "    <tr>\n",
       "      <th>4</th>\n",
       "      <td>5</td>\n",
       "      <td>-2.171266</td>\n",
       "      <td>30.018541</td>\n",
       "      <td>-0.449480</td>\n",
       "      <td>0.00</td>\n",
       "      <td>0.0</td>\n",
       "      <td>0.000000</td>\n",
       "      <td>0.0</td>\n",
       "      <td>0.0</td>\n",
       "    </tr>\n",
       "  </tbody>\n",
       "</table>\n",
       "</div>"
      ],
      "text/plain": [
       "   cluster  latitude  longitude  wealth_index  mean_light  median_light  \\\n",
       "0        1 -2.532818  29.684726     -0.531405        0.06           0.0   \n",
       "1        2 -1.833858  30.310689     -0.409830        0.00           0.0   \n",
       "2        3 -1.888155  29.478298     -0.478115        0.00           0.0   \n",
       "3        4 -2.366763  30.521692     -0.435960        0.00           0.0   \n",
       "4        5 -2.171266  30.018541     -0.449480        0.00           0.0   \n",
       "\n",
       "   std_light  min_light  max_light  \n",
       "0   0.596992        0.0        6.0  \n",
       "1   0.000000        0.0        0.0  \n",
       "2   0.000000        0.0        0.0  \n",
       "3   0.000000        0.0        0.0  \n",
       "4   0.000000        0.0        0.0  "
      ]
     },
     "execution_count": 71,
     "metadata": {},
     "output_type": "execute_result"
    }
   ],
   "source": [
    "wealth_geo_light_merge = pd.merge(wealth_geo_merge, result_light, how='inner', left_on='cluster', right_on='index')[['cluster', 'latitude', 'longitude', 'wealth_index', 'mean_light', 'median_light', 'std_light', 'min_light', 'max_light']]\n",
    "wealth_geo_light_merge.head()"
   ]
  },
  {
   "cell_type": "code",
   "execution_count": 72,
   "metadata": {},
   "outputs": [
    {
     "name": "stdout",
     "output_type": "stream",
     "text": [
      "<class 'pandas.core.frame.DataFrame'>\n",
      "Int64Index: 492 entries, 0 to 491\n",
      "Data columns (total 9 columns):\n",
      "cluster         492 non-null int64\n",
      "latitude        492 non-null float64\n",
      "longitude       492 non-null float64\n",
      "wealth_index    492 non-null float64\n",
      "mean_light      492 non-null float64\n",
      "median_light    492 non-null float64\n",
      "std_light       492 non-null float64\n",
      "min_light       492 non-null float64\n",
      "max_light       492 non-null float64\n",
      "dtypes: float64(8), int64(1)\n",
      "memory usage: 38.4 KB\n"
     ]
    }
   ],
   "source": [
    "wealth_geo_light_merge.info()"
   ]
  },
  {
   "cell_type": "code",
   "execution_count": 73,
   "metadata": {},
   "outputs": [],
   "source": [
    "wealth_geo_light_merge.to_csv('./data/rwanda.csv', index=False)"
   ]
  },
  {
   "cell_type": "code",
   "execution_count": 74,
   "metadata": {},
   "outputs": [
    {
     "data": {
      "text/plain": [
       "<matplotlib.axes._subplots.AxesSubplot at 0x7f1953a97da0>"
      ]
     },
     "execution_count": 74,
     "metadata": {},
     "output_type": "execute_result"
    },
    {
     "data": {
      "image/png": "[encoded data removed]",
      "text/plain": [
       "<Figure size 432x288 with 1 Axes>"
      ]
     },
     "metadata": {
      "needs_background": "light"
     },
     "output_type": "display_data"
    }
   ],
   "source": [
    "df_test = pd.read_csv('./data/rwanda.csv')\n",
    "sns.scatterplot(x='mean_light', y='wealth_index', data=df_test)"
   ]
  },
  {
   "cell_type": "markdown",
   "metadata": {},
   "source": [
    "## 5) Download daytime images"
   ]
  },
  {
   "cell_type": "code",
   "execution_count": null,
   "metadata": {},
   "outputs": [],
   "source": [
    "image_folder = './data/daytime_images/rwanda/'"
   ]
  },
  {
   "cell_type": "code",
   "execution_count": null,
   "metadata": {},
   "outputs": [],
   "source": []
  }
 ],
 "metadata": {
  "kernelspec": {
   "display_name": "Python3.5 Predict-poverty",
   "language": "python",
   "name": "predict-poverty"
  },
  "language_info": {
   "codemirror_mode": {
    "name": "ipython",
    "version": 3
   },
   "file_extension": ".py",
   "mimetype": "text/x-python",
   "name": "python",
   "nbconvert_exporter": "python",
   "pygments_lexer": "ipython3",
   "version": "3.5.6"
  }
 },
 "nbformat": 4,
 "nbformat_minor": 2
}
